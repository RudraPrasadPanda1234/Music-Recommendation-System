{
  "cells": [
    {
      "cell_type": "code",
      "execution_count": 1,
      "metadata": {
        "colab": {
          "base_uri": "https://localhost:8080/",
          "height": 235
        },
        "id": "lWq6jmwl6-dJ",
        "outputId": "9f665599-a469-424c-c9cc-ef892d08ed41"
      },
      "outputs": [],
      "source": [
        "import pandas as pd\n",
        "\n",
        "df=pd.read_csv(\"spotify_millsongdata.csv\")"
      ]
    },
    {
      "cell_type": "code",
      "execution_count": 2,
      "metadata": {
        "id": "-tZIpoJ57zjs"
      },
      "outputs": [
        {
          "data": {
            "text/html": [
              "<div>\n",
              "<style scoped>\n",
              "    .dataframe tbody tr th:only-of-type {\n",
              "        vertical-align: middle;\n",
              "    }\n",
              "\n",
              "    .dataframe tbody tr th {\n",
              "        vertical-align: top;\n",
              "    }\n",
              "\n",
              "    .dataframe thead th {\n",
              "        text-align: right;\n",
              "    }\n",
              "</style>\n",
              "<table border=\"1\" class=\"dataframe\">\n",
              "  <thead>\n",
              "    <tr style=\"text-align: right;\">\n",
              "      <th></th>\n",
              "      <th>artist</th>\n",
              "      <th>song</th>\n",
              "      <th>link</th>\n",
              "      <th>text</th>\n",
              "    </tr>\n",
              "  </thead>\n",
              "  <tbody>\n",
              "    <tr>\n",
              "      <th>0</th>\n",
              "      <td>ABBA</td>\n",
              "      <td>Ahe's My Kind Of Girl</td>\n",
              "      <td>/a/abba/ahes+my+kind+of+girl_20598417.html</td>\n",
              "      <td>Look at her face, it's a wonderful face  \\r\\nA...</td>\n",
              "    </tr>\n",
              "    <tr>\n",
              "      <th>1</th>\n",
              "      <td>ABBA</td>\n",
              "      <td>Andante, Andante</td>\n",
              "      <td>/a/abba/andante+andante_20002708.html</td>\n",
              "      <td>Take it easy with me, please  \\r\\nTouch me gen...</td>\n",
              "    </tr>\n",
              "    <tr>\n",
              "      <th>2</th>\n",
              "      <td>ABBA</td>\n",
              "      <td>As Good As New</td>\n",
              "      <td>/a/abba/as+good+as+new_20003033.html</td>\n",
              "      <td>I'll never know why I had to go  \\r\\nWhy I had...</td>\n",
              "    </tr>\n",
              "    <tr>\n",
              "      <th>3</th>\n",
              "      <td>ABBA</td>\n",
              "      <td>Bang</td>\n",
              "      <td>/a/abba/bang_20598415.html</td>\n",
              "      <td>Making somebody happy is a question of give an...</td>\n",
              "    </tr>\n",
              "    <tr>\n",
              "      <th>4</th>\n",
              "      <td>ABBA</td>\n",
              "      <td>Bang-A-Boomerang</td>\n",
              "      <td>/a/abba/bang+a+boomerang_20002668.html</td>\n",
              "      <td>Making somebody happy is a question of give an...</td>\n",
              "    </tr>\n",
              "  </tbody>\n",
              "</table>\n",
              "</div>"
            ],
            "text/plain": [
              "  artist                   song                                        link  \\\n",
              "0   ABBA  Ahe's My Kind Of Girl  /a/abba/ahes+my+kind+of+girl_20598417.html   \n",
              "1   ABBA       Andante, Andante       /a/abba/andante+andante_20002708.html   \n",
              "2   ABBA         As Good As New        /a/abba/as+good+as+new_20003033.html   \n",
              "3   ABBA                   Bang                  /a/abba/bang_20598415.html   \n",
              "4   ABBA       Bang-A-Boomerang      /a/abba/bang+a+boomerang_20002668.html   \n",
              "\n",
              "                                                text  \n",
              "0  Look at her face, it's a wonderful face  \\r\\nA...  \n",
              "1  Take it easy with me, please  \\r\\nTouch me gen...  \n",
              "2  I'll never know why I had to go  \\r\\nWhy I had...  \n",
              "3  Making somebody happy is a question of give an...  \n",
              "4  Making somebody happy is a question of give an...  "
            ]
          },
          "execution_count": 2,
          "metadata": {},
          "output_type": "execute_result"
        }
      ],
      "source": [
        "df.head()"
      ]
    },
    {
      "cell_type": "code",
      "execution_count": 3,
      "metadata": {
        "id": "5msoZsgQ7zmj"
      },
      "outputs": [],
      "source": [
        "df=df.sample(4000)"
      ]
    },
    {
      "cell_type": "code",
      "execution_count": 4,
      "metadata": {
        "id": "q1lu-CO27zqK"
      },
      "outputs": [
        {
          "data": {
            "text/plain": [
              "(4000, 4)"
            ]
          },
          "execution_count": 4,
          "metadata": {},
          "output_type": "execute_result"
        }
      ],
      "source": [
        "df.shape"
      ]
    },
    {
      "cell_type": "code",
      "execution_count": 5,
      "metadata": {
        "id": "Su09v4KS7zx0"
      },
      "outputs": [
        {
          "data": {
            "text/plain": [
              "artist    0\n",
              "song      0\n",
              "link      0\n",
              "text      0\n",
              "dtype: int64"
            ]
          },
          "execution_count": 5,
          "metadata": {},
          "output_type": "execute_result"
        }
      ],
      "source": [
        "df.isnull().sum()"
      ]
    },
    {
      "cell_type": "code",
      "execution_count": 6,
      "metadata": {
        "id": "QhlKze1O7z3W"
      },
      "outputs": [],
      "source": [
        "df=df.drop('link',axis=1).reset_index(drop=True)"
      ]
    },
    {
      "cell_type": "code",
      "execution_count": 7,
      "metadata": {
        "id": "Q8q6t-Vo7z6g"
      },
      "outputs": [
        {
          "data": {
            "text/html": [
              "<div>\n",
              "<style scoped>\n",
              "    .dataframe tbody tr th:only-of-type {\n",
              "        vertical-align: middle;\n",
              "    }\n",
              "\n",
              "    .dataframe tbody tr th {\n",
              "        vertical-align: top;\n",
              "    }\n",
              "\n",
              "    .dataframe thead th {\n",
              "        text-align: right;\n",
              "    }\n",
              "</style>\n",
              "<table border=\"1\" class=\"dataframe\">\n",
              "  <thead>\n",
              "    <tr style=\"text-align: right;\">\n",
              "      <th></th>\n",
              "      <th>artist</th>\n",
              "      <th>song</th>\n",
              "      <th>text</th>\n",
              "    </tr>\n",
              "  </thead>\n",
              "  <tbody>\n",
              "    <tr>\n",
              "      <th>0</th>\n",
              "      <td>Waterboys</td>\n",
              "      <td>Is She Conscious</td>\n",
              "      <td>Is she really wide awake  \\r\\nIs she conscious...</td>\n",
              "    </tr>\n",
              "    <tr>\n",
              "      <th>1</th>\n",
              "      <td>UB40</td>\n",
              "      <td>Since I Met You Lady</td>\n",
              "      <td>Since I met you lady  \\r\\nMy whole life has ch...</td>\n",
              "    </tr>\n",
              "    <tr>\n",
              "      <th>2</th>\n",
              "      <td>Patti Smith</td>\n",
              "      <td>Trespassers</td>\n",
              "      <td>Life is designed  \\r\\nWith unfinished lines  \\...</td>\n",
              "    </tr>\n",
              "    <tr>\n",
              "      <th>3</th>\n",
              "      <td>Lady Gaga</td>\n",
              "      <td>Alejandro</td>\n",
              "      <td>I know that we are young,  \\r\\nAnd I know that...</td>\n",
              "    </tr>\n",
              "    <tr>\n",
              "      <th>4</th>\n",
              "      <td>Noa</td>\n",
              "      <td>Uri</td>\n",
              "      <td>I wish I had a son  \\r\\nA little boy  \\r\\nBrig...</td>\n",
              "    </tr>\n",
              "  </tbody>\n",
              "</table>\n",
              "</div>"
            ],
            "text/plain": [
              "        artist                  song  \\\n",
              "0    Waterboys      Is She Conscious   \n",
              "1         UB40  Since I Met You Lady   \n",
              "2  Patti Smith           Trespassers   \n",
              "3    Lady Gaga             Alejandro   \n",
              "4          Noa                   Uri   \n",
              "\n",
              "                                                text  \n",
              "0  Is she really wide awake  \\r\\nIs she conscious...  \n",
              "1  Since I met you lady  \\r\\nMy whole life has ch...  \n",
              "2  Life is designed  \\r\\nWith unfinished lines  \\...  \n",
              "3  I know that we are young,  \\r\\nAnd I know that...  \n",
              "4  I wish I had a son  \\r\\nA little boy  \\r\\nBrig...  "
            ]
          },
          "execution_count": 7,
          "metadata": {},
          "output_type": "execute_result"
        }
      ],
      "source": [
        "df.head(5)"
      ]
    },
    {
      "cell_type": "code",
      "execution_count": 8,
      "metadata": {
        "id": "jSnumXWG7z-C"
      },
      "outputs": [
        {
          "data": {
            "text/html": [
              "<div>\n",
              "<style scoped>\n",
              "    .dataframe tbody tr th:only-of-type {\n",
              "        vertical-align: middle;\n",
              "    }\n",
              "\n",
              "    .dataframe tbody tr th {\n",
              "        vertical-align: top;\n",
              "    }\n",
              "\n",
              "    .dataframe thead th {\n",
              "        text-align: right;\n",
              "    }\n",
              "</style>\n",
              "<table border=\"1\" class=\"dataframe\">\n",
              "  <thead>\n",
              "    <tr style=\"text-align: right;\">\n",
              "      <th></th>\n",
              "      <th>artist</th>\n",
              "      <th>song</th>\n",
              "      <th>text</th>\n",
              "    </tr>\n",
              "  </thead>\n",
              "  <tbody>\n",
              "    <tr>\n",
              "      <th>3995</th>\n",
              "      <td>Clash</td>\n",
              "      <td>Red Angel Dragnet</td>\n",
              "      <td>I come from a long way away  \\r\\nAnd I know a ...</td>\n",
              "    </tr>\n",
              "    <tr>\n",
              "      <th>3996</th>\n",
              "      <td>Electric Light Orchestra</td>\n",
              "      <td>Dreaming Of 4000</td>\n",
              "      <td>Saviour of the night came slowly on the silent...</td>\n",
              "    </tr>\n",
              "    <tr>\n",
              "      <th>3997</th>\n",
              "      <td>Linda Ronstadt</td>\n",
              "      <td>Blue Bayou</td>\n",
              "      <td>I feel so bad I got a worried mind  \\r\\nI'm so...</td>\n",
              "    </tr>\n",
              "    <tr>\n",
              "      <th>3998</th>\n",
              "      <td>Ramones</td>\n",
              "      <td>Any Way You Want It</td>\n",
              "      <td>Any way you want it, you can call me any day  ...</td>\n",
              "    </tr>\n",
              "    <tr>\n",
              "      <th>3999</th>\n",
              "      <td>Waylon Jennings</td>\n",
              "      <td>I Fall In Love So Easily</td>\n",
              "      <td>You don't know what's good for you you won't l...</td>\n",
              "    </tr>\n",
              "  </tbody>\n",
              "</table>\n",
              "</div>"
            ],
            "text/plain": [
              "                        artist                      song  \\\n",
              "3995                     Clash         Red Angel Dragnet   \n",
              "3996  Electric Light Orchestra          Dreaming Of 4000   \n",
              "3997            Linda Ronstadt                Blue Bayou   \n",
              "3998                   Ramones       Any Way You Want It   \n",
              "3999           Waylon Jennings  I Fall In Love So Easily   \n",
              "\n",
              "                                                   text  \n",
              "3995  I come from a long way away  \\r\\nAnd I know a ...  \n",
              "3996  Saviour of the night came slowly on the silent...  \n",
              "3997  I feel so bad I got a worried mind  \\r\\nI'm so...  \n",
              "3998  Any way you want it, you can call me any day  ...  \n",
              "3999  You don't know what's good for you you won't l...  "
            ]
          },
          "execution_count": 8,
          "metadata": {},
          "output_type": "execute_result"
        }
      ],
      "source": [
        "df.tail()"
      ]
    },
    {
      "cell_type": "code",
      "execution_count": 9,
      "metadata": {
        "id": "54WrUQQ870AQ"
      },
      "outputs": [],
      "source": [
        "df['text']=df['text'].str.lower().replace(r'^\\w\\s',' ').replace(r'\\n','regex=True')"
      ]
    },
    {
      "cell_type": "code",
      "execution_count": 10,
      "metadata": {
        "id": "9M84h9nG70DP"
      },
      "outputs": [
        {
          "data": {
            "text/html": [
              "<div>\n",
              "<style scoped>\n",
              "    .dataframe tbody tr th:only-of-type {\n",
              "        vertical-align: middle;\n",
              "    }\n",
              "\n",
              "    .dataframe tbody tr th {\n",
              "        vertical-align: top;\n",
              "    }\n",
              "\n",
              "    .dataframe thead th {\n",
              "        text-align: right;\n",
              "    }\n",
              "</style>\n",
              "<table border=\"1\" class=\"dataframe\">\n",
              "  <thead>\n",
              "    <tr style=\"text-align: right;\">\n",
              "      <th></th>\n",
              "      <th>artist</th>\n",
              "      <th>song</th>\n",
              "      <th>text</th>\n",
              "    </tr>\n",
              "  </thead>\n",
              "  <tbody>\n",
              "    <tr>\n",
              "      <th>0</th>\n",
              "      <td>Waterboys</td>\n",
              "      <td>Is She Conscious</td>\n",
              "      <td>is she really wide awake  \\r\\nis she conscious...</td>\n",
              "    </tr>\n",
              "    <tr>\n",
              "      <th>1</th>\n",
              "      <td>UB40</td>\n",
              "      <td>Since I Met You Lady</td>\n",
              "      <td>since i met you lady  \\r\\nmy whole life has ch...</td>\n",
              "    </tr>\n",
              "    <tr>\n",
              "      <th>2</th>\n",
              "      <td>Patti Smith</td>\n",
              "      <td>Trespassers</td>\n",
              "      <td>life is designed  \\r\\nwith unfinished lines  \\...</td>\n",
              "    </tr>\n",
              "    <tr>\n",
              "      <th>3</th>\n",
              "      <td>Lady Gaga</td>\n",
              "      <td>Alejandro</td>\n",
              "      <td>i know that we are young,  \\r\\nand i know that...</td>\n",
              "    </tr>\n",
              "    <tr>\n",
              "      <th>4</th>\n",
              "      <td>Noa</td>\n",
              "      <td>Uri</td>\n",
              "      <td>i wish i had a son  \\r\\na little boy  \\r\\nbrig...</td>\n",
              "    </tr>\n",
              "  </tbody>\n",
              "</table>\n",
              "</div>"
            ],
            "text/plain": [
              "        artist                  song  \\\n",
              "0    Waterboys      Is She Conscious   \n",
              "1         UB40  Since I Met You Lady   \n",
              "2  Patti Smith           Trespassers   \n",
              "3    Lady Gaga             Alejandro   \n",
              "4          Noa                   Uri   \n",
              "\n",
              "                                                text  \n",
              "0  is she really wide awake  \\r\\nis she conscious...  \n",
              "1  since i met you lady  \\r\\nmy whole life has ch...  \n",
              "2  life is designed  \\r\\nwith unfinished lines  \\...  \n",
              "3  i know that we are young,  \\r\\nand i know that...  \n",
              "4  i wish i had a son  \\r\\na little boy  \\r\\nbrig...  "
            ]
          },
          "execution_count": 10,
          "metadata": {},
          "output_type": "execute_result"
        }
      ],
      "source": [
        "df.head(5)"
      ]
    },
    {
      "cell_type": "code",
      "execution_count": 11,
      "metadata": {},
      "outputs": [
        {
          "name": "stdout",
          "output_type": "stream",
          "text": [
            "3.8.1\n"
          ]
        }
      ],
      "source": [
        "import nltk\n",
        "print(nltk.__version__)\n"
      ]
    },
    {
      "cell_type": "code",
      "execution_count": 14,
      "metadata": {},
      "outputs": [],
      "source": [
        "import nltk\n",
        "print(nltk.data.path)"
      ]
    },
    {
      "cell_type": "code",
      "execution_count": null,
      "metadata": {},
      "outputs": [],
      "source": [
        "\n"
      ]
    },
    {
      "cell_type": "code",
      "execution_count": 15,
      "metadata": {},
      "outputs": [
        {
          "name": "stderr",
          "output_type": "stream",
          "text": [
            "[nltk_data] Downloading package punkt to\n",
            "[nltk_data]     C:\\Users\\ashut\\AppData\\Roaming\\nltk_data...\n",
            "[nltk_data]   Unzipping tokenizers\\punkt.zip.\n"
          ]
        },
        {
          "data": {
            "text/plain": [
              "True"
            ]
          },
          "execution_count": 15,
          "metadata": {},
          "output_type": "execute_result"
        }
      ],
      "source": [
        "import nltk\n",
        "nltk.download('punkt')"
      ]
    },
    {
      "cell_type": "code",
      "execution_count": 16,
      "metadata": {},
      "outputs": [],
      "source": [
        "import nltk\n",
        "from nltk.stem.porter import PorterStemmer"
      ]
    },
    {
      "cell_type": "code",
      "execution_count": 17,
      "metadata": {},
      "outputs": [],
      "source": [
        "stemmer=PorterStemmer()"
      ]
    },
    {
      "cell_type": "code",
      "execution_count": 18,
      "metadata": {},
      "outputs": [],
      "source": [
        "def token(txt):\n",
        "    token=nltk.word_tokenize(txt)\n",
        "    a=[stemmer.stem(w)for w in token]\n",
        "    return\" \".join(a)"
      ]
    },
    {
      "cell_type": "code",
      "execution_count": 19,
      "metadata": {},
      "outputs": [
        {
          "data": {
            "text/plain": [
              "'you are beauti'"
            ]
          },
          "execution_count": 19,
          "metadata": {},
          "output_type": "execute_result"
        }
      ],
      "source": [
        "token(\"you are beautiful\")"
      ]
    },
    {
      "cell_type": "code",
      "execution_count": 20,
      "metadata": {},
      "outputs": [
        {
          "data": {
            "text/plain": [
              "0       is she realli wide awak is she consciou of her...\n",
              "1       sinc i met you ladi my whole life ha chang sin...\n",
              "2       life is design with unfinish line that anoth s...\n",
              "3       i know that we are young , and i know that you...\n",
              "4       i wish i had a son a littl boy bright , with b...\n",
              "                              ...                        \n",
              "3995    i come from a long way away and i know a fine ...\n",
              "3996    saviour of the night came slowli on the silent...\n",
              "3997    i feel so bad i got a worri mind i 'm so lones...\n",
              "3998    ani way you want it , you can call me ani day ...\n",
              "3999    you do n't know what 's good for you you wo n'...\n",
              "Name: text, Length: 4000, dtype: object"
            ]
          },
          "execution_count": 20,
          "metadata": {},
          "output_type": "execute_result"
        }
      ],
      "source": [
        "df['text'].apply(lambda x:token(x))"
      ]
    },
    {
      "cell_type": "code",
      "execution_count": 21,
      "metadata": {},
      "outputs": [],
      "source": [
        "from sklearn.feature_extraction.text import TfidfVectorizer\n",
        "from sklearn.metrics.pairwise import cosine_similarity"
      ]
    },
    {
      "cell_type": "code",
      "execution_count": 22,
      "metadata": {},
      "outputs": [],
      "source": [
        "tfid = TfidfVectorizer(analyzer='word',stop_words='english')"
      ]
    },
    {
      "cell_type": "code",
      "execution_count": 23,
      "metadata": {},
      "outputs": [],
      "source": [
        "matrix=tfid.fit_transform(df['text'])"
      ]
    },
    {
      "cell_type": "code",
      "execution_count": 24,
      "metadata": {},
      "outputs": [],
      "source": [
        "similer = cosine_similarity(matrix)"
      ]
    },
    {
      "cell_type": "code",
      "execution_count": 26,
      "metadata": {},
      "outputs": [],
      "source": [
        "def recommender(somg_name):\n",
        "    idx=df[df['song']==somg_name].index[0]\n",
        "    distance=sorted(list(enumerate(similer[idx])),reverse=True,key=lambda x:x[1])\n",
        "    song=[]\n",
        "    for s_id in distance[1:5]:\n",
        "        song.append(df.iloc[s_id[0]].song)\n",
        "        return song"
      ]
    },
    {
      "cell_type": "code",
      "execution_count": 29,
      "metadata": {},
      "outputs": [
        {
          "name": "stdout",
          "output_type": "stream",
          "text": [
            "Song not found in the dataset.\n"
          ]
        }
      ],
      "source": [
        "# recommender(\"Piece Of Me\")\n",
        "\n",
        "\n",
        "def recommender(song_name):\n",
        "    # Check if the song name is present in the DataFrame\n",
        "    if song_name not in df['song'].values:\n",
        "        return \"Song not found in the dataset.\"\n",
        "\n",
        "    # Get the index of the song\n",
        "    idx = df[df['song'] == song_name].index[0]\n",
        "\n",
        "    # Assuming `similer` is your cosine similarity matrix\n",
        "    distance = sorted(list(enumerate(similer[idx])), reverse=True, key=lambda x: x[1])\n",
        "    recommendations = []\n",
        "\n",
        "    # Get recommendations\n",
        "    for i in range(1, 6):  # Getting top 5 recommendations excluding the song itself\n",
        "        rec_song_idx = distance[i][0]\n",
        "        rec_song_name = df.iloc[rec_song_idx]['song']\n",
        "        recommendations.append(rec_song_name)\n",
        "\n",
        "    return recommendations\n",
        "\n",
        "# Example usage\n",
        "print(recommender(\"Piece Of Me\"))\n"
      ]
    },
    {
      "cell_type": "code",
      "execution_count": 55,
      "metadata": {},
      "outputs": [],
      "source": [
        "import pickle "
      ]
    },
    {
      "cell_type": "code",
      "execution_count": 56,
      "metadata": {},
      "outputs": [],
      "source": [
        "pickle.dump(similer,open(\"similarity\",\"wb\"))"
      ]
    },
    {
      "cell_type": "code",
      "execution_count": 57,
      "metadata": {},
      "outputs": [],
      "source": [
        "pickle.dump(df,open(\"df\",\"wb\"))"
      ]
    }
  ],
  "metadata": {
    "colab": {
      "provenance": []
    },
    "kernelspec": {
      "display_name": "Python 3",
      "name": "python3"
    },
    "language_info": {
      "codemirror_mode": {
        "name": "ipython",
        "version": 3
      },
      "file_extension": ".py",
      "mimetype": "text/x-python",
      "name": "python",
      "nbconvert_exporter": "python",
      "pygments_lexer": "ipython3",
      "version": "3.12.1"
    }
  },
  "nbformat": 4,
  "nbformat_minor": 0
}
